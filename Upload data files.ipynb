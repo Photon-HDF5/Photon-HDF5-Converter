{
 "cells": [
  {
   "cell_type": "markdown",
   "metadata": {},
   "source": [
    "# Upload data files\n",
    "<p class=\"lead\">This <a href=\"https://jupyter.org/\">Jupyter notebook</a>\n",
    "shows how to upload data files to be converted\n",
    "to [Photon-HDF5](http://photon-hdf5.org) format. </p>\n",
    "\n",
    "<i>Please send feedback and report any problems to the \n",
    "[Photon-HDF5 google group](https://groups.google.com/forum/#!forum/photon-hdf5).</i>\n",
    "\n",
    "## Files under 35 MB\n",
    "\n",
    "Data files up to 35 MB you can be directly uploaded from the dashboard.\n",
    "Just go back to the Home Tab and click on the **Upload** botton on the \n",
    "top right. Alternatively, you can also use the method below with small files.\n",
    "\n",
    "## Files over 35 MB\n",
    "\n",
    "For large files (>35 MB) the upload button will not work.\n",
    "In this case you have to upload the file somewhere on the internet first,\n",
    "and then copy the file URL in the cell below to download it:"
   ]
  },
  {
   "cell_type": "code",
   "execution_count": null,
   "metadata": {
    "collapsed": true
   },
   "outputs": [],
   "source": [
    "url = 'https://ndownloader.figshare.com/files/3350672'"
   ]
  },
  {
   "cell_type": "markdown",
   "metadata": {},
   "source": [
    "For example, the previous URL will download a PicoQuant HT3 file\n",
    "which you can then convert with the HT3 notebook."
   ]
  },
  {
   "cell_type": "markdown",
   "metadata": {},
   "source": [
    "## Download\n",
    "\n",
    "Once you have copied the URL in the previous cell, you can download \n",
    "the file by running this notebook:\n",
    "go to menu *Cell* -> *Run All*, then follow the download progress \n",
    "at the end of this notebook."
   ]
  },
  {
   "cell_type": "code",
   "execution_count": null,
   "metadata": {
    "collapsed": true
   },
   "outputs": [],
   "source": [
    "import urllib.request\n",
    "\n",
    "def download(url):\n",
    "    \"\"\"Download a file from `url` saving it to disk.\"\"\"\n",
    "    print('URL:  %s' % url)\n",
    "\n",
    "    # Check if the URL is valid\n",
    "    try:\n",
    "        urllib.request.urlopen(url)\n",
    "    except urllib.error.URLError as e:\n",
    "        print('Wrong URL.\\n\\nError:\\n%s\\n' % e)\n",
    "        return\n",
    "    \n",
    "    # Download the file\n",
    "    filename = response.geturl().split('/')[-1]\n",
    "    def _report(blocknr, blocksize, size):\n",
    "        current = (blocknr + 1) * blocksize / 2**20\n",
    "        print(\"\\rDownloading {0:4.1f} of {1:4.1f} MB\"\n",
    "              .format(current, size/2**20), end='', flush=True)\n",
    "    urllib.request.urlretrieve(url, filename, _report)\n",
    "    print('\\nDownload completed, file saved as \"%s\".' % filename)"
   ]
  },
  {
   "cell_type": "code",
   "execution_count": null,
   "metadata": {
    "collapsed": false
   },
   "outputs": [],
   "source": [
    "download(url)"
   ]
  },
  {
   "cell_type": "markdown",
   "metadata": {},
   "source": [
    "Once the file is downloaded, you can go back to the dashboard (\"Home\" tab) \n",
    "and open the notebook for the file type you want to convert."
   ]
  }
 ],
 "metadata": {
  "kernelspec": {
   "display_name": "Python 3",
   "language": "python",
   "name": "python3"
  },
  "language_info": {
   "codemirror_mode": {
    "name": "ipython",
    "version": 3
   },
   "file_extension": ".py",
   "mimetype": "text/x-python",
   "name": "python",
   "nbconvert_exporter": "python",
   "pygments_lexer": "ipython3",
   "version": "3.5.1"
  }
 },
 "nbformat": 4,
 "nbformat_minor": 0
}
